{
 "cells": [
  {
   "cell_type": "code",
   "execution_count": 1,
   "metadata": {},
   "outputs": [],
   "source": [
    "import numpy as np \n",
    "import pandas as pd"
   ]
  },
  {
   "cell_type": "code",
   "execution_count": 4,
   "metadata": {},
   "outputs": [
    {
     "name": "stderr",
     "output_type": "stream",
     "text": [
      "/tmp/ipykernel_5825/414528685.py:2: DtypeWarning: Columns (0) have mixed types. Specify dtype option on import or set low_memory=False.\n",
      "  users=pd.read_csv(\"Users.csv\",on_bad_lines=\"skip\",sep=';')\n"
     ]
    }
   ],
   "source": [
    "books=pd.read_csv('Books.csv',on_bad_lines=\"skip\",sep=';')\n",
    "users=pd.read_csv(\"Users.csv\",on_bad_lines=\"skip\",sep=';')\n",
    "ratings=pd.read_csv(\"Ratings.csv\",on_bad_lines=\"skip\",sep=';')"
   ]
  },
  {
   "cell_type": "code",
   "execution_count": 24,
   "metadata": {},
   "outputs": [],
   "source": [
    "import string\n",
    "\n",
    "def ascii_check(item):\n",
    "    \"\"\"\n",
    "    Checks if a given item contains only ASCII characters.\n",
    "\n",
    "    Args:\n",
    "        item: The item to check.\n",
    "\n",
    "    Returns:\n",
    "        1 if the item contains non-ASCII characters, 0 otherwise.\n",
    "    \"\"\"\n",
    "    for letter in str(item):\n",
    "        if letter not in string.printable:  # Use string.printable for all ASCII characters\n",
    "            return 1\n",
    "    return 0\n",
    "\n",
    "def ascii_check_bulk(df):\n",
    "    \"\"\"\n",
    "    Checks for non-ASCII characters in all columns of a DataFrame.\n",
    "\n",
    "    Args:\n",
    "        df: The DataFrame to check.\n",
    "    \"\"\"\n",
    "    for col in df.columns:\n",
    "        print(f\"Items with non-ASCII characters in {col}: {df[col].apply(ascii_check).sum()}\")\n",
    "    print('')"
   ]
  },
  {
   "cell_type": "code",
   "execution_count": 25,
   "metadata": {},
   "outputs": [],
   "source": [
    "def colname_fix(colname):\n",
    "    return colname.lower().replace('-','_')"
   ]
  },
  {
   "cell_type": "code",
   "execution_count": 26,
   "metadata": {},
   "outputs": [],
   "source": [
    "for df in [books,users,ratings]:\n",
    "    df.columns=[colname_fix(col) for col in df.columns]"
   ]
  },
  {
   "cell_type": "code",
   "execution_count": 27,
   "metadata": {},
   "outputs": [
    {
     "name": "stdout",
     "output_type": "stream",
     "text": [
      "Ratings:\n",
      "Number of ratings: 1149780\n",
      "Number of books: 340556\n",
      "Number of users: 105283\n",
      "\n",
      "Number of books: 271379\n",
      "\n",
      "Number of users: 278859\n"
     ]
    }
   ],
   "source": [
    "print('Ratings:\\nNumber of ratings: %d\\nNumber of books: %d\\nNumber of users: %d' % (len(ratings),\n",
    "                                                                                     len(ratings['isbn'].unique()),\n",
    "                                                                                     len(ratings['user_id'].unique())))\n",
    "print('\\nNumber of books: %d' % len(books))\n",
    "print('\\nNumber of users: %d' % len(users))"
   ]
  },
  {
   "cell_type": "code",
   "execution_count": 28,
   "metadata": {},
   "outputs": [
    {
     "name": "stdout",
     "output_type": "stream",
     "text": [
      "Items with non-ASCII characters in user_id: 0\n",
      "Items with non-ASCII characters in isbn: 17\n",
      "Items with non-ASCII characters in rating: 0\n",
      "\n",
      "Items with non-ASCII characters in user_id: 0\n",
      "Items with non-ASCII characters in age: 4\n",
      "\n",
      "Items with non-ASCII characters in isbn: 0\n",
      "Items with non-ASCII characters in title: 6634\n",
      "Items with non-ASCII characters in author: 2086\n",
      "Items with non-ASCII characters in year: 0\n",
      "Items with non-ASCII characters in publisher: 1796\n",
      "\n"
     ]
    }
   ],
   "source": [
    "ascii_check_bulk(ratings)\n",
    "ascii_check_bulk(users)\n",
    "ascii_check_bulk(books)"
   ]
  },
  {
   "cell_type": "code",
   "execution_count": 23,
   "metadata": {},
   "outputs": [
    {
     "data": {
      "text/plain": [
       "(271379, 5)"
      ]
     },
     "execution_count": 23,
     "metadata": {},
     "output_type": "execute_result"
    }
   ],
   "source": [
    "books.shape"
   ]
  },
  {
   "cell_type": "code",
   "execution_count": 30,
   "metadata": {},
   "outputs": [],
   "source": [
    "ratings['isbn_check'] = ratings['isbn'].apply(ascii_check)\n",
    "ratings = ratings[ratings['isbn_check']==0]"
   ]
  },
  {
   "cell_type": "code",
   "execution_count": 31,
   "metadata": {},
   "outputs": [
    {
     "name": "stderr",
     "output_type": "stream",
     "text": [
      "/tmp/ipykernel_5825/2125850976.py:1: SettingWithCopyWarning: \n",
      "A value is trying to be set on a copy of a slice from a DataFrame\n",
      "\n",
      "See the caveats in the documentation: https://pandas.pydata.org/pandas-docs/stable/user_guide/indexing.html#returning-a-view-versus-a-copy\n",
      "  ratings.drop(['isbn_check'], axis=1, inplace=True)\n"
     ]
    }
   ],
   "source": [
    "ratings.drop(['isbn_check'], axis=1, inplace=True)"
   ]
  },
  {
   "cell_type": "code",
   "execution_count": 36,
   "metadata": {},
   "outputs": [
    {
     "name": "stdout",
     "output_type": "stream",
     "text": [
      "Explicit ratings: 433657\n",
      "Implicit ratings: 716106\n"
     ]
    }
   ],
   "source": [
    "df_ratings_explicit = ratings[ratings['rating']!=0]\n",
    "df_ratings_implicit = ratings[ratings['rating']==0]\n",
    "\n",
    "print('Explicit ratings: %d\\nImplicit ratings: %d' % (len(df_ratings_explicit), len(df_ratings_implicit)))\n"
   ]
  },
  {
   "cell_type": "code",
   "execution_count": 38,
   "metadata": {},
   "outputs": [],
   "source": [
    "\n",
    "books.to_csv('books.csv', encoding='utf-8', index=False)\n",
    "users.to_csv('users.csv', encoding='utf-8', index=False)\n",
    "df_ratings_explicit.to_csv('explicit_ratings.csv', encoding='utf-8', index=False)\n",
    "df_ratings_implicit.to_csv('implicit_rating.csv',encoding='utf-8',index=False)\n",
    "\n"
   ]
  },
  {
   "cell_type": "code",
   "execution_count": 42,
   "metadata": {},
   "outputs": [
    {
     "name": "stdout",
     "output_type": "stream",
     "text": [
      "Filter: users with at least 3 ratings\n",
      "Number of records: 368564\n"
     ]
    }
   ],
   "source": [
    "user_rating_thresold=3\n",
    "\n",
    "filter_user=df_ratings_explicit['user_id'].value_counts()\n",
    "filter_user_list=filter_user[filter_user>=user_rating_thresold].index.to_list()\n",
    "df_ratings_top = df_ratings_explicit[df_ratings_explicit['user_id'].isin(filter_user_list)]\n",
    "\n",
    "print('Filter: users with at least %d ratings\\nNumber of records: %d' % (user_rating_thresold, len(df_ratings_top)))"
   ]
  },
  {
   "cell_type": "code",
   "execution_count": 41,
   "metadata": {},
   "outputs": [
    {
     "data": {
      "text/plain": [
       "user_id\n",
       "11676     8523\n",
       "98391     5802\n",
       "153662    1969\n",
       "189835    1906\n",
       "23902     1395\n",
       "          ... \n",
       "114076       1\n",
       "114079       1\n",
       "114081       1\n",
       "114096       1\n",
       "276723       1\n",
       "Name: count, Length: 77803, dtype: int64"
      ]
     },
     "execution_count": 41,
     "metadata": {},
     "output_type": "execute_result"
    }
   ],
   "source": [
    "filter_user"
   ]
  },
  {
   "cell_type": "code",
   "execution_count": 43,
   "metadata": {},
   "outputs": [
    {
     "name": "stdout",
     "output_type": "stream",
     "text": [
      "Filter: top 10% most frequently rated books\n",
      "Number of records: 176595\n"
     ]
    }
   ],
   "source": [
    "book_ratings_threshold_perc = 0.1\n",
    "book_ratings_threshold = len(df_ratings_top['isbn'].unique()) * book_ratings_threshold_perc\n",
    "\n",
    "filter_books_list = df_ratings_top['isbn'].value_counts().head(int(book_ratings_threshold)).index.to_list()\n",
    "df_ratings_top = df_ratings_top[df_ratings_top['isbn'].isin(filter_books_list)]\n",
    "\n",
    "print('Filter: top %d%% most frequently rated books\\nNumber of records: %d' % (book_ratings_threshold_perc*100, len(df_ratings_top)))"
   ]
  },
  {
   "cell_type": "code",
   "execution_count": 45,
   "metadata": {},
   "outputs": [],
   "source": [
    "df_ratings_top.to_csv('ratings_top.csv', encoding='utf-8', index=False)"
   ]
  },
  {
   "cell_type": "code",
   "execution_count": null,
   "metadata": {},
   "outputs": [],
   "source": []
  }
 ],
 "metadata": {
  "kernelspec": {
   "display_name": "Python 3",
   "language": "python",
   "name": "python3"
  },
  "language_info": {
   "codemirror_mode": {
    "name": "ipython",
    "version": 3
   },
   "file_extension": ".py",
   "mimetype": "text/x-python",
   "name": "python",
   "nbconvert_exporter": "python",
   "pygments_lexer": "ipython3",
   "version": "3.10.12"
  }
 },
 "nbformat": 4,
 "nbformat_minor": 2
}
